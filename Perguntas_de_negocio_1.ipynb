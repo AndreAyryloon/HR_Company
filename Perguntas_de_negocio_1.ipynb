{
 "cells": [
  {
   "cell_type": "code",
   "execution_count": 108,
   "id": "0450fc3f",
   "metadata": {
    "ExecuteTime": {
     "end_time": "2021-05-22T23:10:27.429626Z",
     "start_time": "2021-05-22T23:10:27.422643Z"
    }
   },
   "outputs": [],
   "source": [
    "import pandas as pd\n",
    "import numpy as np"
   ]
  },
  {
   "cell_type": "code",
   "execution_count": 131,
   "id": "1bf73cac",
   "metadata": {
    "ExecuteTime": {
     "end_time": "2021-05-23T00:07:33.381560Z",
     "start_time": "2021-05-23T00:07:33.282702Z"
    }
   },
   "outputs": [],
   "source": [
    "pd.set_option('display.max_columns', 21)\n",
    "df = pd.read_csv('C:/Users/Ayron/repos/Datasets/kc_house_data.csv')"
   ]
  },
  {
   "cell_type": "code",
   "execution_count": 132,
   "id": "8bedef23",
   "metadata": {
    "ExecuteTime": {
     "end_time": "2021-05-23T00:07:36.253512Z",
     "start_time": "2021-05-23T00:07:36.209630Z"
    }
   },
   "outputs": [
    {
     "data": {
      "text/html": [
       "<div>\n",
       "<style scoped>\n",
       "    .dataframe tbody tr th:only-of-type {\n",
       "        vertical-align: middle;\n",
       "    }\n",
       "\n",
       "    .dataframe tbody tr th {\n",
       "        vertical-align: top;\n",
       "    }\n",
       "\n",
       "    .dataframe thead th {\n",
       "        text-align: right;\n",
       "    }\n",
       "</style>\n",
       "<table border=\"1\" class=\"dataframe\">\n",
       "  <thead>\n",
       "    <tr style=\"text-align: right;\">\n",
       "      <th></th>\n",
       "      <th>id</th>\n",
       "      <th>date</th>\n",
       "      <th>price</th>\n",
       "      <th>bedrooms</th>\n",
       "      <th>bathrooms</th>\n",
       "      <th>sqft_living</th>\n",
       "      <th>sqft_lot</th>\n",
       "      <th>floors</th>\n",
       "      <th>waterfront</th>\n",
       "      <th>view</th>\n",
       "      <th>condition</th>\n",
       "      <th>grade</th>\n",
       "      <th>sqft_above</th>\n",
       "      <th>sqft_basement</th>\n",
       "      <th>yr_built</th>\n",
       "      <th>yr_renovated</th>\n",
       "      <th>zipcode</th>\n",
       "      <th>lat</th>\n",
       "      <th>long</th>\n",
       "      <th>sqft_living15</th>\n",
       "      <th>sqft_lot15</th>\n",
       "    </tr>\n",
       "  </thead>\n",
       "  <tbody>\n",
       "    <tr>\n",
       "      <th>0</th>\n",
       "      <td>7129300520</td>\n",
       "      <td>20141013T000000</td>\n",
       "      <td>221900.0</td>\n",
       "      <td>3</td>\n",
       "      <td>1.00</td>\n",
       "      <td>1180</td>\n",
       "      <td>5650</td>\n",
       "      <td>1.0</td>\n",
       "      <td>0</td>\n",
       "      <td>0</td>\n",
       "      <td>3</td>\n",
       "      <td>7</td>\n",
       "      <td>1180</td>\n",
       "      <td>0</td>\n",
       "      <td>1955</td>\n",
       "      <td>0</td>\n",
       "      <td>98178</td>\n",
       "      <td>47.5112</td>\n",
       "      <td>-122.257</td>\n",
       "      <td>1340</td>\n",
       "      <td>5650</td>\n",
       "    </tr>\n",
       "    <tr>\n",
       "      <th>1</th>\n",
       "      <td>6414100192</td>\n",
       "      <td>20141209T000000</td>\n",
       "      <td>538000.0</td>\n",
       "      <td>3</td>\n",
       "      <td>2.25</td>\n",
       "      <td>2570</td>\n",
       "      <td>7242</td>\n",
       "      <td>2.0</td>\n",
       "      <td>0</td>\n",
       "      <td>0</td>\n",
       "      <td>3</td>\n",
       "      <td>7</td>\n",
       "      <td>2170</td>\n",
       "      <td>400</td>\n",
       "      <td>1951</td>\n",
       "      <td>1991</td>\n",
       "      <td>98125</td>\n",
       "      <td>47.7210</td>\n",
       "      <td>-122.319</td>\n",
       "      <td>1690</td>\n",
       "      <td>7639</td>\n",
       "    </tr>\n",
       "    <tr>\n",
       "      <th>2</th>\n",
       "      <td>5631500400</td>\n",
       "      <td>20150225T000000</td>\n",
       "      <td>180000.0</td>\n",
       "      <td>2</td>\n",
       "      <td>1.00</td>\n",
       "      <td>770</td>\n",
       "      <td>10000</td>\n",
       "      <td>1.0</td>\n",
       "      <td>0</td>\n",
       "      <td>0</td>\n",
       "      <td>3</td>\n",
       "      <td>6</td>\n",
       "      <td>770</td>\n",
       "      <td>0</td>\n",
       "      <td>1933</td>\n",
       "      <td>0</td>\n",
       "      <td>98028</td>\n",
       "      <td>47.7379</td>\n",
       "      <td>-122.233</td>\n",
       "      <td>2720</td>\n",
       "      <td>8062</td>\n",
       "    </tr>\n",
       "    <tr>\n",
       "      <th>3</th>\n",
       "      <td>2487200875</td>\n",
       "      <td>20141209T000000</td>\n",
       "      <td>604000.0</td>\n",
       "      <td>4</td>\n",
       "      <td>3.00</td>\n",
       "      <td>1960</td>\n",
       "      <td>5000</td>\n",
       "      <td>1.0</td>\n",
       "      <td>0</td>\n",
       "      <td>0</td>\n",
       "      <td>5</td>\n",
       "      <td>7</td>\n",
       "      <td>1050</td>\n",
       "      <td>910</td>\n",
       "      <td>1965</td>\n",
       "      <td>0</td>\n",
       "      <td>98136</td>\n",
       "      <td>47.5208</td>\n",
       "      <td>-122.393</td>\n",
       "      <td>1360</td>\n",
       "      <td>5000</td>\n",
       "    </tr>\n",
       "    <tr>\n",
       "      <th>4</th>\n",
       "      <td>1954400510</td>\n",
       "      <td>20150218T000000</td>\n",
       "      <td>510000.0</td>\n",
       "      <td>3</td>\n",
       "      <td>2.00</td>\n",
       "      <td>1680</td>\n",
       "      <td>8080</td>\n",
       "      <td>1.0</td>\n",
       "      <td>0</td>\n",
       "      <td>0</td>\n",
       "      <td>3</td>\n",
       "      <td>8</td>\n",
       "      <td>1680</td>\n",
       "      <td>0</td>\n",
       "      <td>1987</td>\n",
       "      <td>0</td>\n",
       "      <td>98074</td>\n",
       "      <td>47.6168</td>\n",
       "      <td>-122.045</td>\n",
       "      <td>1800</td>\n",
       "      <td>7503</td>\n",
       "    </tr>\n",
       "  </tbody>\n",
       "</table>\n",
       "</div>"
      ],
      "text/plain": [
       "           id             date     price  bedrooms  bathrooms  sqft_living  \\\n",
       "0  7129300520  20141013T000000  221900.0         3       1.00         1180   \n",
       "1  6414100192  20141209T000000  538000.0         3       2.25         2570   \n",
       "2  5631500400  20150225T000000  180000.0         2       1.00          770   \n",
       "3  2487200875  20141209T000000  604000.0         4       3.00         1960   \n",
       "4  1954400510  20150218T000000  510000.0         3       2.00         1680   \n",
       "\n",
       "   sqft_lot  floors  waterfront  view  condition  grade  sqft_above  \\\n",
       "0      5650     1.0           0     0          3      7        1180   \n",
       "1      7242     2.0           0     0          3      7        2170   \n",
       "2     10000     1.0           0     0          3      6         770   \n",
       "3      5000     1.0           0     0          5      7        1050   \n",
       "4      8080     1.0           0     0          3      8        1680   \n",
       "\n",
       "   sqft_basement  yr_built  yr_renovated  zipcode      lat     long  \\\n",
       "0              0      1955             0    98178  47.5112 -122.257   \n",
       "1            400      1951          1991    98125  47.7210 -122.319   \n",
       "2              0      1933             0    98028  47.7379 -122.233   \n",
       "3            910      1965             0    98136  47.5208 -122.393   \n",
       "4              0      1987             0    98074  47.6168 -122.045   \n",
       "\n",
       "   sqft_living15  sqft_lot15  \n",
       "0           1340        5650  \n",
       "1           1690        7639  \n",
       "2           2720        8062  \n",
       "3           1360        5000  \n",
       "4           1800        7503  "
      ]
     },
     "execution_count": 132,
     "metadata": {},
     "output_type": "execute_result"
    }
   ],
   "source": [
    "df.head()"
   ]
  },
  {
   "cell_type": "code",
   "execution_count": 144,
   "id": "49f32543",
   "metadata": {
    "ExecuteTime": {
     "end_time": "2021-05-23T00:28:28.455160Z",
     "start_time": "2021-05-23T00:28:28.435221Z"
    }
   },
   "outputs": [
    {
     "data": {
      "text/plain": [
       "(21613, 21)"
      ]
     },
     "execution_count": 144,
     "metadata": {},
     "output_type": "execute_result"
    }
   ],
   "source": [
    "df.shape"
   ]
  },
  {
   "cell_type": "code",
   "execution_count": 7,
   "id": "f17b0989",
   "metadata": {
    "ExecuteTime": {
     "end_time": "2021-05-22T20:42:44.823380Z",
     "start_time": "2021-05-22T20:42:44.777418Z"
    }
   },
   "outputs": [
    {
     "data": {
      "text/plain": [
       "id               0\n",
       "date             0\n",
       "price            0\n",
       "bedrooms         0\n",
       "bathrooms        0\n",
       "sqft_living      0\n",
       "sqft_lot         0\n",
       "floors           0\n",
       "waterfront       0\n",
       "view             0\n",
       "condition        0\n",
       "grade            0\n",
       "sqft_above       0\n",
       "sqft_basement    0\n",
       "yr_built         0\n",
       "yr_renovated     0\n",
       "zipcode          0\n",
       "lat              0\n",
       "long             0\n",
       "sqft_living15    0\n",
       "sqft_lot15       0\n",
       "dtype: int64"
      ]
     },
     "execution_count": 7,
     "metadata": {},
     "output_type": "execute_result"
    }
   ],
   "source": [
    "df.isnull().sum()"
   ]
  },
  {
   "cell_type": "markdown",
   "id": "7c8d2322",
   "metadata": {
    "ExecuteTime": {
     "end_time": "2021-05-22T19:34:11.831609Z",
     "start_time": "2021-05-22T19:34:11.468649Z"
    }
   },
   "source": [
    "## 1.\tQuantas casas estão disponíveis para compra?"
   ]
  },
  {
   "cell_type": "code",
   "execution_count": 9,
   "id": "d276dc61",
   "metadata": {
    "ExecuteTime": {
     "end_time": "2021-05-22T20:44:07.943821Z",
     "start_time": "2021-05-22T20:44:07.930856Z"
    },
    "code_folding": []
   },
   "outputs": [
    {
     "data": {
      "text/plain": [
       "(21613,)"
      ]
     },
     "execution_count": 9,
     "metadata": {},
     "output_type": "execute_result"
    }
   ],
   "source": [
    "#Casa disponíveis para compra:\n",
    "df['id'].shape"
   ]
  },
  {
   "cell_type": "markdown",
   "id": "bfb507d4",
   "metadata": {},
   "source": [
    "## 2.\tQuantos atributos as casas possuem?"
   ]
  },
  {
   "cell_type": "code",
   "execution_count": 149,
   "id": "104addba",
   "metadata": {
    "ExecuteTime": {
     "end_time": "2021-05-23T00:31:42.455963Z",
     "start_time": "2021-05-23T00:31:42.440342Z"
    }
   },
   "outputs": [
    {
     "name": "stdout",
     "output_type": "stream",
     "text": [
      "19\n"
     ]
    }
   ],
   "source": [
    "total = -2\n",
    "for i in df.columns:\n",
    "    total += 1\n",
    "\n",
    "print(total)"
   ]
  },
  {
   "cell_type": "markdown",
   "id": "2a3b2062",
   "metadata": {
    "ExecuteTime": {
     "end_time": "2021-05-22T21:38:41.015340Z",
     "start_time": "2021-05-22T21:38:40.994396Z"
    }
   },
   "source": [
    "## 3.\tQuais são os atributos das casas?"
   ]
  },
  {
   "cell_type": "code",
   "execution_count": 37,
   "id": "497fc06c",
   "metadata": {
    "ExecuteTime": {
     "end_time": "2021-05-22T21:48:10.990329Z",
     "start_time": "2021-05-22T21:48:10.969392Z"
    }
   },
   "outputs": [
    {
     "data": {
      "text/plain": [
       "Index(['id', 'date', 'price', 'bedrooms', 'bathrooms', 'sqft_living',\n",
       "       'sqft_lot', 'floors', 'waterfront', 'view', 'condition', 'grade',\n",
       "       'sqft_above', 'sqft_basement', 'yr_built', 'yr_renovated', 'zipcode',\n",
       "       'lat', 'long', 'sqft_living15', 'sqft_lot15'],\n",
       "      dtype='object')"
      ]
     },
     "execution_count": 37,
     "metadata": {},
     "output_type": "execute_result"
    }
   ],
   "source": [
    "df.columns"
   ]
  },
  {
   "cell_type": "markdown",
   "id": "44bd9797",
   "metadata": {},
   "source": [
    "## 4.\tQual a casa mais cara (casa com o maior valor de venda)?"
   ]
  },
  {
   "cell_type": "code",
   "execution_count": 38,
   "id": "72700af8",
   "metadata": {
    "ExecuteTime": {
     "end_time": "2021-05-22T21:51:35.344560Z",
     "start_time": "2021-05-22T21:51:35.321626Z"
    }
   },
   "outputs": [
    {
     "data": {
      "text/plain": [
       "7700000.0"
      ]
     },
     "execution_count": 38,
     "metadata": {},
     "output_type": "execute_result"
    }
   ],
   "source": [
    "df['price'].max()"
   ]
  },
  {
   "cell_type": "code",
   "execution_count": 46,
   "id": "551fbe65",
   "metadata": {
    "ExecuteTime": {
     "end_time": "2021-05-22T22:02:10.223207Z",
     "start_time": "2021-05-22T22:02:10.207251Z"
    }
   },
   "outputs": [
    {
     "data": {
      "text/plain": [
       "7252     7700000.0\n",
       "3914     7062500.0\n",
       "9254     6885000.0\n",
       "4411     5570000.0\n",
       "1448     5350000.0\n",
       "           ...    \n",
       "8274       82000.0\n",
       "16198      81000.0\n",
       "465        80000.0\n",
       "15293      78000.0\n",
       "1149       75000.0\n",
       "Name: price, Length: 21613, dtype: float64"
      ]
     },
     "execution_count": 46,
     "metadata": {},
     "output_type": "execute_result"
    }
   ],
   "source": [
    "df['price'].sort_values(ascending=False)"
   ]
  },
  {
   "cell_type": "markdown",
   "id": "bd5673ff",
   "metadata": {},
   "source": [
    "## 5.\tQual a casa com maior numero de quartos?"
   ]
  },
  {
   "cell_type": "code",
   "execution_count": 86,
   "id": "8efdb731",
   "metadata": {
    "ExecuteTime": {
     "end_time": "2021-05-22T22:34:16.679704Z",
     "start_time": "2021-05-22T22:34:16.648787Z"
    }
   },
   "outputs": [
    {
     "data": {
      "text/html": [
       "<div>\n",
       "<style scoped>\n",
       "    .dataframe tbody tr th:only-of-type {\n",
       "        vertical-align: middle;\n",
       "    }\n",
       "\n",
       "    .dataframe tbody tr th {\n",
       "        vertical-align: top;\n",
       "    }\n",
       "\n",
       "    .dataframe thead th {\n",
       "        text-align: right;\n",
       "    }\n",
       "</style>\n",
       "<table border=\"1\" class=\"dataframe\">\n",
       "  <thead>\n",
       "    <tr style=\"text-align: right;\">\n",
       "      <th></th>\n",
       "      <th>id</th>\n",
       "      <th>bedrooms</th>\n",
       "    </tr>\n",
       "  </thead>\n",
       "  <tbody>\n",
       "    <tr>\n",
       "      <th>15870</th>\n",
       "      <td>2402100895</td>\n",
       "      <td>33</td>\n",
       "    </tr>\n",
       "    <tr>\n",
       "      <th>8757</th>\n",
       "      <td>1773100755</td>\n",
       "      <td>11</td>\n",
       "    </tr>\n",
       "    <tr>\n",
       "      <th>15161</th>\n",
       "      <td>5566100170</td>\n",
       "      <td>10</td>\n",
       "    </tr>\n",
       "    <tr>\n",
       "      <th>13314</th>\n",
       "      <td>627300145</td>\n",
       "      <td>10</td>\n",
       "    </tr>\n",
       "    <tr>\n",
       "      <th>19254</th>\n",
       "      <td>8812401450</td>\n",
       "      <td>10</td>\n",
       "    </tr>\n",
       "    <tr>\n",
       "      <th>...</th>\n",
       "      <td>...</td>\n",
       "      <td>...</td>\n",
       "    </tr>\n",
       "    <tr>\n",
       "      <th>19452</th>\n",
       "      <td>3980300371</td>\n",
       "      <td>0</td>\n",
       "    </tr>\n",
       "    <tr>\n",
       "      <th>8484</th>\n",
       "      <td>2310060040</td>\n",
       "      <td>0</td>\n",
       "    </tr>\n",
       "    <tr>\n",
       "      <th>875</th>\n",
       "      <td>6306400140</td>\n",
       "      <td>0</td>\n",
       "    </tr>\n",
       "    <tr>\n",
       "      <th>8477</th>\n",
       "      <td>2569500210</td>\n",
       "      <td>0</td>\n",
       "    </tr>\n",
       "    <tr>\n",
       "      <th>9773</th>\n",
       "      <td>3374500520</td>\n",
       "      <td>0</td>\n",
       "    </tr>\n",
       "  </tbody>\n",
       "</table>\n",
       "<p>21613 rows × 2 columns</p>\n",
       "</div>"
      ],
      "text/plain": [
       "               id  bedrooms\n",
       "15870  2402100895        33\n",
       "8757   1773100755        11\n",
       "15161  5566100170        10\n",
       "13314   627300145        10\n",
       "19254  8812401450        10\n",
       "...           ...       ...\n",
       "19452  3980300371         0\n",
       "8484   2310060040         0\n",
       "875    6306400140         0\n",
       "8477   2569500210         0\n",
       "9773   3374500520         0\n",
       "\n",
       "[21613 rows x 2 columns]"
      ]
     },
     "execution_count": 86,
     "metadata": {},
     "output_type": "execute_result"
    }
   ],
   "source": [
    "df[['id', 'bedrooms']].sort_values('bedrooms', ascending=False)"
   ]
  },
  {
   "cell_type": "markdown",
   "id": "aa40b6ef",
   "metadata": {},
   "source": [
    "## 6.\tQual a soma total de quartos do conjunto de dados?"
   ]
  },
  {
   "cell_type": "code",
   "execution_count": 87,
   "id": "a2c693cc",
   "metadata": {
    "ExecuteTime": {
     "end_time": "2021-05-22T22:35:04.094834Z",
     "start_time": "2021-05-22T22:35:04.083853Z"
    }
   },
   "outputs": [
    {
     "data": {
      "text/plain": [
       "72854"
      ]
     },
     "execution_count": 87,
     "metadata": {},
     "output_type": "execute_result"
    }
   ],
   "source": [
    "df['bedrooms'].sum()"
   ]
  },
  {
   "cell_type": "markdown",
   "id": "1fd01033",
   "metadata": {},
   "source": [
    "## 7.\tQuantas casas possuem 2 banheiros?"
   ]
  },
  {
   "cell_type": "code",
   "execution_count": 96,
   "id": "bc4a1f5a",
   "metadata": {
    "ExecuteTime": {
     "end_time": "2021-05-22T22:51:40.484453Z",
     "start_time": "2021-05-22T22:51:40.464505Z"
    },
    "code_folding": []
   },
   "outputs": [
    {
     "name": "stdout",
     "output_type": "stream",
     "text": [
      "1930\n"
     ]
    }
   ],
   "source": [
    "cont = 0\n",
    "for i in df['bathrooms']:\n",
    "    if i == 2.00:\n",
    "        cont += 1\n",
    "    else:\n",
    "        pass\n",
    "print(cont)"
   ]
  },
  {
   "cell_type": "markdown",
   "id": "8e3731bd",
   "metadata": {
    "ExecuteTime": {
     "end_time": "2021-05-22T22:38:49.485886Z",
     "start_time": "2021-05-22T22:38:49.463946Z"
    }
   },
   "source": [
    "## 8.\tQual o preço médio de todas as casas no conjunto de dados?"
   ]
  },
  {
   "cell_type": "code",
   "execution_count": 93,
   "id": "3ac54f2b",
   "metadata": {
    "ExecuteTime": {
     "end_time": "2021-05-22T22:43:03.255551Z",
     "start_time": "2021-05-22T22:43:03.235604Z"
    }
   },
   "outputs": [
    {
     "data": {
      "text/plain": [
       "540088.1417665294"
      ]
     },
     "execution_count": 93,
     "metadata": {},
     "output_type": "execute_result"
    }
   ],
   "source": [
    "df['price'].mean()"
   ]
  },
  {
   "cell_type": "markdown",
   "id": "6410dcd8",
   "metadata": {},
   "source": [
    "## 9.\tQual o preço médio de casas com 2 banheiros?"
   ]
  },
  {
   "cell_type": "code",
   "execution_count": 111,
   "id": "c1283455",
   "metadata": {
    "ExecuteTime": {
     "end_time": "2021-05-22T23:15:38.386899Z",
     "start_time": "2021-05-22T23:15:38.358972Z"
    }
   },
   "outputs": [
    {
     "data": {
      "text/plain": [
       "457889.7186528497"
      ]
     },
     "execution_count": 111,
     "metadata": {},
     "output_type": "execute_result"
    }
   ],
   "source": [
    "#Filtro usando query().\n",
    "df_bathrooms_two = df.query('bathrooms == 2.00')\n",
    "df_bathrooms_two['price'].mean()"
   ]
  },
  {
   "cell_type": "code",
   "execution_count": 118,
   "id": "a0b96ba1",
   "metadata": {
    "ExecuteTime": {
     "end_time": "2021-05-22T23:25:04.577008Z",
     "start_time": "2021-05-22T23:25:04.549083Z"
    }
   },
   "outputs": [
    {
     "data": {
      "text/plain": [
       "457889.7186528497"
      ]
     },
     "execution_count": 118,
     "metadata": {},
     "output_type": "execute_result"
    }
   ],
   "source": [
    "#Filtro usando indexação posicional.\n",
    "df_filtro = df['bathrooms'] == 2.00\n",
    "posicao = np.flatnonzero(df_filtro)\n",
    "df_bathrooms_two_pos = df.iloc[posicao]\n",
    "df_bathrooms_two_pos['price'].mean()"
   ]
  },
  {
   "cell_type": "code",
   "execution_count": 119,
   "id": "8db8f12f",
   "metadata": {
    "ExecuteTime": {
     "end_time": "2021-05-22T23:25:20.092476Z",
     "start_time": "2021-05-22T23:25:20.083499Z"
    }
   },
   "outputs": [
    {
     "data": {
      "text/plain": [
       "457889.7186528497"
      ]
     },
     "execution_count": 119,
     "metadata": {},
     "output_type": "execute_result"
    }
   ],
   "source": [
    "#Filtro usando indexação booleana.\n",
    "df_filtro = df['bathrooms'] == 2.00\n",
    "df_bathrooms_two_boolean = df[df_filtro]\n",
    "df_bathrooms_two_boolean['price'].mean()"
   ]
  },
  {
   "cell_type": "markdown",
   "id": "11e7e0bb",
   "metadata": {},
   "source": [
    "## 10.\tQual o preço mínimo entre as casas com 3 quartos?"
   ]
  },
  {
   "cell_type": "code",
   "execution_count": 127,
   "id": "36f9dd55",
   "metadata": {
    "ExecuteTime": {
     "end_time": "2021-05-22T23:54:44.936446Z",
     "start_time": "2021-05-22T23:54:44.912512Z"
    }
   },
   "outputs": [
    {
     "data": {
      "text/plain": [
       "82000.0"
      ]
     },
     "execution_count": 127,
     "metadata": {},
     "output_type": "execute_result"
    }
   ],
   "source": [
    "df_filtro_bedrooms = df.query('bedrooms == 3')\n",
    "df_filtro_bedrooms['price'].min()"
   ]
  },
  {
   "cell_type": "code",
   "execution_count": 130,
   "id": "8159bb89",
   "metadata": {
    "ExecuteTime": {
     "end_time": "2021-05-22T23:55:36.074577Z",
     "start_time": "2021-05-22T23:55:36.031693Z"
    }
   },
   "outputs": [
    {
     "data": {
      "text/html": [
       "<div>\n",
       "<style scoped>\n",
       "    .dataframe tbody tr th:only-of-type {\n",
       "        vertical-align: middle;\n",
       "    }\n",
       "\n",
       "    .dataframe tbody tr th {\n",
       "        vertical-align: top;\n",
       "    }\n",
       "\n",
       "    .dataframe thead th {\n",
       "        text-align: right;\n",
       "    }\n",
       "</style>\n",
       "<table border=\"1\" class=\"dataframe\">\n",
       "  <thead>\n",
       "    <tr style=\"text-align: right;\">\n",
       "      <th></th>\n",
       "      <th>price</th>\n",
       "      <th>bedrooms</th>\n",
       "    </tr>\n",
       "  </thead>\n",
       "  <tbody>\n",
       "    <tr>\n",
       "      <th>8274</th>\n",
       "      <td>82000.0</td>\n",
       "      <td>3</td>\n",
       "    </tr>\n",
       "    <tr>\n",
       "      <th>13756</th>\n",
       "      <td>86500.0</td>\n",
       "      <td>3</td>\n",
       "    </tr>\n",
       "    <tr>\n",
       "      <th>5866</th>\n",
       "      <td>89000.0</td>\n",
       "      <td>3</td>\n",
       "    </tr>\n",
       "    <tr>\n",
       "      <th>18939</th>\n",
       "      <td>90000.0</td>\n",
       "      <td>3</td>\n",
       "    </tr>\n",
       "    <tr>\n",
       "      <th>5723</th>\n",
       "      <td>96500.0</td>\n",
       "      <td>3</td>\n",
       "    </tr>\n",
       "    <tr>\n",
       "      <th>...</th>\n",
       "      <td>...</td>\n",
       "      <td>...</td>\n",
       "    </tr>\n",
       "    <tr>\n",
       "      <th>11535</th>\n",
       "      <td>3200000.0</td>\n",
       "      <td>3</td>\n",
       "    </tr>\n",
       "    <tr>\n",
       "      <th>18199</th>\n",
       "      <td>3300000.0</td>\n",
       "      <td>3</td>\n",
       "    </tr>\n",
       "    <tr>\n",
       "      <th>7989</th>\n",
       "      <td>3400000.0</td>\n",
       "      <td>3</td>\n",
       "    </tr>\n",
       "    <tr>\n",
       "      <th>2864</th>\n",
       "      <td>3600000.0</td>\n",
       "      <td>3</td>\n",
       "    </tr>\n",
       "    <tr>\n",
       "      <th>19017</th>\n",
       "      <td>3800000.0</td>\n",
       "      <td>3</td>\n",
       "    </tr>\n",
       "  </tbody>\n",
       "</table>\n",
       "<p>9824 rows × 2 columns</p>\n",
       "</div>"
      ],
      "text/plain": [
       "           price  bedrooms\n",
       "8274     82000.0         3\n",
       "13756    86500.0         3\n",
       "5866     89000.0         3\n",
       "18939    90000.0         3\n",
       "5723     96500.0         3\n",
       "...          ...       ...\n",
       "11535  3200000.0         3\n",
       "18199  3300000.0         3\n",
       "7989   3400000.0         3\n",
       "2864   3600000.0         3\n",
       "19017  3800000.0         3\n",
       "\n",
       "[9824 rows x 2 columns]"
      ]
     },
     "execution_count": 130,
     "metadata": {},
     "output_type": "execute_result"
    }
   ],
   "source": [
    "teste = df.query('bedrooms == 3')\n",
    "teste[['price', 'bedrooms']].sort_values('price')"
   ]
  },
  {
   "cell_type": "markdown",
   "id": "cc174c3a",
   "metadata": {},
   "source": [
    "## 11.\tQuantas casas possuem mais de 300 metros quadrados na sala de espera?"
   ]
  },
  {
   "cell_type": "code",
   "execution_count": 164,
   "id": "4ffbf000",
   "metadata": {
    "ExecuteTime": {
     "end_time": "2021-05-23T00:45:01.904145Z",
     "start_time": "2021-05-23T00:45:01.878214Z"
    }
   },
   "outputs": [
    {
     "data": {
      "text/plain": [
       "(21612, 21)"
      ]
     },
     "execution_count": 164,
     "metadata": {},
     "output_type": "execute_result"
    }
   ],
   "source": [
    "onze_df_filtro_bedrooms = df.query('sqft_living > 300')\n",
    "onze_df_filtro_bedrooms.shape"
   ]
  },
  {
   "cell_type": "code",
   "execution_count": 168,
   "id": "a02a2d50",
   "metadata": {
    "ExecuteTime": {
     "end_time": "2021-05-23T00:46:20.530690Z",
     "start_time": "2021-05-23T00:46:20.508748Z"
    }
   },
   "outputs": [
    {
     "name": "stdout",
     "output_type": "stream",
     "text": [
      "21612\n"
     ]
    }
   ],
   "source": [
    "soma = 0\n",
    "for i in onze_df_filtro_bedrooms['sqft_living']:\n",
    "    soma += 1\n",
    "print(soma)"
   ]
  },
  {
   "cell_type": "markdown",
   "id": "cfc3d741",
   "metadata": {},
   "source": [
    "## 12.\tQuantas casas tem mais de 2 andares?"
   ]
  },
  {
   "cell_type": "code",
   "execution_count": 166,
   "id": "83efd871",
   "metadata": {
    "ExecuteTime": {
     "end_time": "2021-05-23T00:45:21.941479Z",
     "start_time": "2021-05-23T00:45:21.912517Z"
    }
   },
   "outputs": [
    {
     "data": {
      "text/plain": [
       "(9023, 21)"
      ]
     },
     "execution_count": 166,
     "metadata": {},
     "output_type": "execute_result"
    }
   ],
   "source": [
    "doze_df_filtro_bedrooms = df.query('floors >= 2.0')\n",
    "doze_df_filtro_bedrooms.shape"
   ]
  },
  {
   "cell_type": "code",
   "execution_count": 167,
   "id": "7217d914",
   "metadata": {
    "ExecuteTime": {
     "end_time": "2021-05-23T00:46:09.222924Z",
     "start_time": "2021-05-23T00:46:09.200981Z"
    }
   },
   "outputs": [
    {
     "name": "stdout",
     "output_type": "stream",
     "text": [
      "9023\n"
     ]
    }
   ],
   "source": [
    "soma = 0\n",
    "for i in doze_df_filtro_bedrooms['floors']:\n",
    "    soma += 1\n",
    "print(soma)"
   ]
  },
  {
   "cell_type": "markdown",
   "id": "cb0a6594",
   "metadata": {
    "ExecuteTime": {
     "end_time": "2021-05-23T00:48:23.119925Z",
     "start_time": "2021-05-23T00:48:23.101944Z"
    }
   },
   "source": [
    "## 13.\tQuantas casas tem vista para o mar?"
   ]
  },
  {
   "cell_type": "code",
   "execution_count": 170,
   "id": "99d17801",
   "metadata": {
    "ExecuteTime": {
     "end_time": "2021-05-23T00:52:31.761699Z",
     "start_time": "2021-05-23T00:52:31.738761Z"
    }
   },
   "outputs": [
    {
     "data": {
      "text/plain": [
       "(163, 21)"
      ]
     },
     "execution_count": 170,
     "metadata": {},
     "output_type": "execute_result"
    }
   ],
   "source": [
    "treze_df_filtro = df.query('waterfront == 1.0')\n",
    "treze_df_filtro.shape"
   ]
  },
  {
   "cell_type": "code",
   "execution_count": 171,
   "id": "6743502e",
   "metadata": {
    "ExecuteTime": {
     "end_time": "2021-05-23T00:53:02.887241Z",
     "start_time": "2021-05-23T00:53:02.870549Z"
    }
   },
   "outputs": [
    {
     "name": "stdout",
     "output_type": "stream",
     "text": [
      "163\n"
     ]
    }
   ],
   "source": [
    "soma = 0\n",
    "for i in treze_df_filtro['waterfront']:\n",
    "    soma += 1\n",
    "print(soma)"
   ]
  },
  {
   "cell_type": "markdown",
   "id": "8b62cc97",
   "metadata": {},
   "source": [
    "## 14.\tDas casas com vista para o mar, quantas tem 3 quartos?"
   ]
  },
  {
   "cell_type": "code",
   "execution_count": 172,
   "id": "ad7cefdb",
   "metadata": {
    "ExecuteTime": {
     "end_time": "2021-05-23T00:54:46.837835Z",
     "start_time": "2021-05-23T00:54:46.823185Z"
    }
   },
   "outputs": [
    {
     "data": {
      "text/plain": [
       "(64, 21)"
      ]
     },
     "execution_count": 172,
     "metadata": {},
     "output_type": "execute_result"
    }
   ],
   "source": [
    "quatorze_df_filtro = treze_df_filtro.query('bedrooms == 3')\n",
    "quatorze_df_filtro.shape"
   ]
  },
  {
   "cell_type": "code",
   "execution_count": 173,
   "id": "9fba685b",
   "metadata": {
    "ExecuteTime": {
     "end_time": "2021-05-23T00:55:05.832843Z",
     "start_time": "2021-05-23T00:55:05.814892Z"
    }
   },
   "outputs": [
    {
     "name": "stdout",
     "output_type": "stream",
     "text": [
      "64\n"
     ]
    }
   ],
   "source": [
    "soma = 0\n",
    "for i in quatorze_df_filtro['bedrooms']:\n",
    "    soma += 1\n",
    "print(soma)"
   ]
  }
 ],
 "metadata": {
  "kernelspec": {
   "display_name": "Python 3",
   "language": "python",
   "name": "python3"
  },
  "language_info": {
   "codemirror_mode": {
    "name": "ipython",
    "version": 3
   },
   "file_extension": ".py",
   "mimetype": "text/x-python",
   "name": "python",
   "nbconvert_exporter": "python",
   "pygments_lexer": "ipython3",
   "version": "3.8.10"
  }
 },
 "nbformat": 4,
 "nbformat_minor": 5
}

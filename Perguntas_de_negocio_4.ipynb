{
 "cells": [
  {
   "cell_type": "markdown",
   "id": "5e3a595b",
   "metadata": {
    "ExecuteTime": {
     "end_time": "2021-05-25T22:44:11.324951Z",
     "start_time": "2021-05-25T22:44:11.318968Z"
    }
   },
   "source": [
    "# Imports"
   ]
  },
  {
   "cell_type": "code",
   "execution_count": 1,
   "id": "d06a577e",
   "metadata": {
    "ExecuteTime": {
     "end_time": "2021-05-31T20:48:50.973861Z",
     "start_time": "2021-05-31T20:48:49.577738Z"
    }
   },
   "outputs": [],
   "source": [
    "import pandas as pd\n",
    "import ipywidgets as widgets\n",
    "import plotly.express as px\n",
    "from ipywidgets import fixed\n",
    "from matplotlib import pyplot as plt\n",
    "from geopy.geocoders import Nominatim\n",
    "from matplotlib import gridspec"
   ]
  },
  {
   "cell_type": "markdown",
   "id": "28fd8045",
   "metadata": {},
   "source": [
    "# Reading Data"
   ]
  },
  {
   "cell_type": "code",
   "execution_count": 2,
   "id": "ec0b5bb9",
   "metadata": {
    "ExecuteTime": {
     "end_time": "2021-05-31T20:48:53.077586Z",
     "start_time": "2021-05-31T20:48:52.999871Z"
    }
   },
   "outputs": [],
   "source": [
    "pd.set_option('display.max_columns', 25)\n",
    "df = pd.read_csv('C:/Users/Ayron/repos/Datasets/kc_house_data.csv')"
   ]
  },
  {
   "cell_type": "markdown",
   "id": "abbd4651",
   "metadata": {},
   "source": [
    "# 1. Qual a média do preço de compra dos imóveis por \"Nível\"?\n"
   ]
  },
  {
   "cell_type": "code",
   "execution_count": 3,
   "id": "c86d34ac",
   "metadata": {
    "ExecuteTime": {
     "end_time": "2021-05-31T20:48:54.991708Z",
     "start_time": "2021-05-31T20:48:54.973779Z"
    }
   },
   "outputs": [],
   "source": [
    "# Nível 0 => Preço entre $ 0 e $ 321.950\n",
    "# Nível 1 => Preço entre $ 321.950 e $ 450.000\n",
    "# Nível 2 => Preço entre $ 450.000 e $ 645.000\n",
    "# Nível 3 => Acima $ 645.000"
   ]
  },
  {
   "cell_type": "code",
   "execution_count": 4,
   "id": "25b39433",
   "metadata": {
    "ExecuteTime": {
     "end_time": "2021-05-31T20:49:03.391090Z",
     "start_time": "2021-05-31T20:48:56.228535Z"
    }
   },
   "outputs": [],
   "source": [
    "for i in range(len(df)):\n",
    "    if (df.loc[i, 'price'] > 0) & (df.loc[i, 'price'] < 321950):\n",
    "        df.loc[i, 'level'] = 0\n",
    "    elif (df.loc[i, 'price'] >= 321950) & (df.loc[i, 'price'] < 450000):\n",
    "        df.loc[i, 'level'] = 1\n",
    "    elif (df.loc[i, 'price'] >= 450000) & (df.loc[i, 'price'] < 645000):\n",
    "        df.loc[i, 'level'] = 2\n",
    "    else:\n",
    "        df.loc[i, 'level'] = 3"
   ]
  },
  {
   "cell_type": "code",
   "execution_count": 5,
   "id": "a8062c0c",
   "metadata": {
    "ExecuteTime": {
     "end_time": "2021-05-31T20:49:04.744886Z",
     "start_time": "2021-05-31T20:49:04.693501Z"
    }
   },
   "outputs": [
    {
     "data": {
      "text/html": [
       "<div>\n",
       "<style scoped>\n",
       "    .dataframe tbody tr th:only-of-type {\n",
       "        vertical-align: middle;\n",
       "    }\n",
       "\n",
       "    .dataframe tbody tr th {\n",
       "        vertical-align: top;\n",
       "    }\n",
       "\n",
       "    .dataframe thead th {\n",
       "        text-align: right;\n",
       "    }\n",
       "</style>\n",
       "<table border=\"1\" class=\"dataframe\">\n",
       "  <thead>\n",
       "    <tr style=\"text-align: right;\">\n",
       "      <th></th>\n",
       "      <th>level</th>\n",
       "      <th>price</th>\n",
       "    </tr>\n",
       "  </thead>\n",
       "  <tbody>\n",
       "    <tr>\n",
       "      <th>0</th>\n",
       "      <td>0.0</td>\n",
       "      <td>251544.621507</td>\n",
       "    </tr>\n",
       "    <tr>\n",
       "      <th>1</th>\n",
       "      <td>1.0</td>\n",
       "      <td>383585.205332</td>\n",
       "    </tr>\n",
       "    <tr>\n",
       "      <th>2</th>\n",
       "      <td>2.0</td>\n",
       "      <td>536164.422840</td>\n",
       "    </tr>\n",
       "    <tr>\n",
       "      <th>3</th>\n",
       "      <td>3.0</td>\n",
       "      <td>985008.983189</td>\n",
       "    </tr>\n",
       "  </tbody>\n",
       "</table>\n",
       "</div>"
      ],
      "text/plain": [
       "   level          price\n",
       "0    0.0  251544.621507\n",
       "1    1.0  383585.205332\n",
       "2    2.0  536164.422840\n",
       "3    3.0  985008.983189"
      ]
     },
     "execution_count": 5,
     "metadata": {},
     "output_type": "execute_result"
    }
   ],
   "source": [
    "df[['price', 'level']].groupby('level').mean().reset_index()"
   ]
  },
  {
   "cell_type": "markdown",
   "id": "842c8c41",
   "metadata": {},
   "source": [
    "# 2. Qual a média do tamanho da sala de estar dos imóveis por \"Size\"?\n",
    "* Size 0 => Tamanho entre 0 e 1427 sqft\n",
    "* Size 1 => Tamanho entre 1427 e 1910 sqft\n",
    "* Size 2 => Tamanho entre 1910 e 2550 sqft\n",
    "* Size 3 => Tamanho acima de 2550 sqft"
   ]
  },
  {
   "cell_type": "code",
   "execution_count": 6,
   "id": "257cd7fb",
   "metadata": {
    "ExecuteTime": {
     "end_time": "2021-05-31T20:49:15.572084Z",
     "start_time": "2021-05-31T20:49:07.990682Z"
    }
   },
   "outputs": [],
   "source": [
    "for i in range(len(df)):\n",
    "    if (df.loc[i, 'sqft_living'] > 0) & (df.loc[i, 'sqft_living'] < 1427):\n",
    "        df.loc[i, 'size_living'] = 0\n",
    "    elif (df.loc[i, 'sqft_living'] >= 1427) & (df.loc[i, 'sqft_living'] < 1910):\n",
    "        df.loc[i, 'size_living'] = 1\n",
    "    elif (df.loc[i, 'sqft_living'] >= 1910) & (df.loc[i, 'sqft_living'] < 2550):\n",
    "        df.loc[i, 'size_living'] = 2\n",
    "    else:\n",
    "        df.loc[i, 'sqft_living'] = 3"
   ]
  },
  {
   "cell_type": "code",
   "execution_count": 7,
   "id": "92d440aa",
   "metadata": {
    "ExecuteTime": {
     "end_time": "2021-05-31T20:49:17.013639Z",
     "start_time": "2021-05-31T20:49:16.984717Z"
    }
   },
   "outputs": [
    {
     "data": {
      "text/html": [
       "<div>\n",
       "<style scoped>\n",
       "    .dataframe tbody tr th:only-of-type {\n",
       "        vertical-align: middle;\n",
       "    }\n",
       "\n",
       "    .dataframe tbody tr th {\n",
       "        vertical-align: top;\n",
       "    }\n",
       "\n",
       "    .dataframe thead th {\n",
       "        text-align: right;\n",
       "    }\n",
       "</style>\n",
       "<table border=\"1\" class=\"dataframe\">\n",
       "  <thead>\n",
       "    <tr style=\"text-align: right;\">\n",
       "      <th></th>\n",
       "      <th>size_living</th>\n",
       "      <th>sqft_living</th>\n",
       "    </tr>\n",
       "  </thead>\n",
       "  <tbody>\n",
       "    <tr>\n",
       "      <th>0</th>\n",
       "      <td>0.0</td>\n",
       "      <td>1123.776421</td>\n",
       "    </tr>\n",
       "    <tr>\n",
       "      <th>1</th>\n",
       "      <td>1.0</td>\n",
       "      <td>1661.198088</td>\n",
       "    </tr>\n",
       "    <tr>\n",
       "      <th>2</th>\n",
       "      <td>2.0</td>\n",
       "      <td>2202.700239</td>\n",
       "    </tr>\n",
       "  </tbody>\n",
       "</table>\n",
       "</div>"
      ],
      "text/plain": [
       "   size_living  sqft_living\n",
       "0          0.0  1123.776421\n",
       "1          1.0  1661.198088\n",
       "2          2.0  2202.700239"
      ]
     },
     "execution_count": 7,
     "metadata": {},
     "output_type": "execute_result"
    }
   ],
   "source": [
    "df[['sqft_living', 'size_living']].groupby('size_living').mean().reset_index()"
   ]
  },
  {
   "cell_type": "markdown",
   "id": "c0860829",
   "metadata": {},
   "source": [
    "# 3. Adicione as seguintes informações ao conjunto de dados original:\n",
    "* Place ID: Identificação da localização\n",
    "* OSM Type: Open Street Map Type\n",
    "* Country: Nome do País\n",
    "* Country Code: Código do País"
   ]
  },
  {
   "cell_type": "code",
   "execution_count": 8,
   "id": "231479ee",
   "metadata": {
    "ExecuteTime": {
     "end_time": "2021-05-31T20:49:23.873176Z",
     "start_time": "2021-05-31T20:49:23.455582Z"
    }
   },
   "outputs": [
    {
     "data": {
      "text/plain": [
       "{'place_id': 148421265,\n",
       " 'licence': 'Data © OpenStreetMap contributors, ODbL 1.0. https://osm.org/copyright',\n",
       " 'osm_type': 'way',\n",
       " 'osm_id': 236673600,\n",
       " 'lat': '47.5112302',\n",
       " 'lon': '-122.25676111324441',\n",
       " 'display_name': '10012, 61st Avenue South, Rainier Beach, Seattle, King County, Washington, 98178, United States',\n",
       " 'address': {'house_number': '10012',\n",
       "  'road': '61st Avenue South',\n",
       "  'neighbourhood': 'Rainier Beach',\n",
       "  'city': 'Seattle',\n",
       "  'county': 'King County',\n",
       "  'state': 'Washington',\n",
       "  'postcode': '98178',\n",
       "  'country': 'United States',\n",
       "  'country_code': 'us'},\n",
       " 'boundingbox': ['47.511189', '47.5112943', '-122.2568571', '-122.2566651']}"
      ]
     },
     "execution_count": 8,
     "metadata": {},
     "output_type": "execute_result"
    }
   ],
   "source": [
    "#Inicializando Nominatim API\n",
    "geolocator = Nominatim(user_agent='geoapiExercises')\n",
    "response = geolocator.reverse('47.5112,-122.257')\n",
    "response.raw"
   ]
  },
  {
   "cell_type": "code",
   "execution_count": 9,
   "id": "7ec62740",
   "metadata": {
    "ExecuteTime": {
     "end_time": "2021-05-31T20:49:25.172687Z",
     "start_time": "2021-05-31T20:49:25.154736Z"
    }
   },
   "outputs": [],
   "source": [
    "#Creaty empty rows\n",
    "df['Place_ID'] = 'NA'\n",
    "df['OSM_TypeID'] = 'NA'\n",
    "df['Country'] = 'NA'\n",
    "df['Country_Code'] = 'NA'"
   ]
  },
  {
   "cell_type": "code",
   "execution_count": 10,
   "id": "041b540b",
   "metadata": {
    "ExecuteTime": {
     "end_time": "2021-05-31T20:49:28.339118Z",
     "start_time": "2021-05-31T20:49:27.909816Z"
    }
   },
   "outputs": [],
   "source": [
    "#Inicializando Nominatim API\n",
    "geolocator = Nominatim(user_agent='geoapiExercises')\n",
    "\n",
    "query = str(df.loc[i, 'lat']) + ',' + str(df.loc[i, 'long'])\n",
    "response = geolocator.reverse(query)\n",
    "\n",
    "     \n",
    "df.loc[i, 'Place_ID'] = response.raw['place_id']\n",
    "df.loc[i, 'OSM_TypeID'] = response.raw['osm_type']\n",
    "df.loc[i, 'Country'] = response.raw['address']['country']\n",
    "df.loc[i, 'Country_Code'] = response.raw['address']['country_code']"
   ]
  },
  {
   "cell_type": "code",
   "execution_count": 11,
   "id": "142d352a",
   "metadata": {
    "ExecuteTime": {
     "end_time": "2021-05-31T20:52:17.751259Z",
     "start_time": "2021-05-31T20:52:17.704495Z"
    }
   },
   "outputs": [
    {
     "data": {
      "text/html": [
       "<div>\n",
       "<style scoped>\n",
       "    .dataframe tbody tr th:only-of-type {\n",
       "        vertical-align: middle;\n",
       "    }\n",
       "\n",
       "    .dataframe tbody tr th {\n",
       "        vertical-align: top;\n",
       "    }\n",
       "\n",
       "    .dataframe thead th {\n",
       "        text-align: right;\n",
       "    }\n",
       "</style>\n",
       "<table border=\"1\" class=\"dataframe\">\n",
       "  <thead>\n",
       "    <tr style=\"text-align: right;\">\n",
       "      <th></th>\n",
       "      <th>id</th>\n",
       "      <th>date</th>\n",
       "      <th>price</th>\n",
       "      <th>bedrooms</th>\n",
       "      <th>bathrooms</th>\n",
       "      <th>sqft_living</th>\n",
       "      <th>sqft_lot</th>\n",
       "      <th>floors</th>\n",
       "      <th>waterfront</th>\n",
       "      <th>view</th>\n",
       "      <th>condition</th>\n",
       "      <th>grade</th>\n",
       "      <th>sqft_above</th>\n",
       "      <th>sqft_basement</th>\n",
       "      <th>yr_built</th>\n",
       "      <th>yr_renovated</th>\n",
       "      <th>zipcode</th>\n",
       "      <th>lat</th>\n",
       "      <th>long</th>\n",
       "      <th>sqft_living15</th>\n",
       "      <th>sqft_lot15</th>\n",
       "      <th>level</th>\n",
       "      <th>size_living</th>\n",
       "      <th>Place_ID</th>\n",
       "      <th>OSM_TypeID</th>\n",
       "      <th>Country</th>\n",
       "      <th>Country_Code</th>\n",
       "    </tr>\n",
       "  </thead>\n",
       "  <tbody>\n",
       "    <tr>\n",
       "      <th>0</th>\n",
       "      <td>7129300520</td>\n",
       "      <td>20141013T000000</td>\n",
       "      <td>221900.0</td>\n",
       "      <td>3</td>\n",
       "      <td>1.00</td>\n",
       "      <td>1180</td>\n",
       "      <td>5650</td>\n",
       "      <td>1.0</td>\n",
       "      <td>0</td>\n",
       "      <td>0</td>\n",
       "      <td>3</td>\n",
       "      <td>7</td>\n",
       "      <td>1180</td>\n",
       "      <td>0</td>\n",
       "      <td>1955</td>\n",
       "      <td>0</td>\n",
       "      <td>98178</td>\n",
       "      <td>47.5112</td>\n",
       "      <td>-122.257</td>\n",
       "      <td>1340</td>\n",
       "      <td>5650</td>\n",
       "      <td>0.0</td>\n",
       "      <td>0.0</td>\n",
       "      <td>NA</td>\n",
       "      <td>NA</td>\n",
       "      <td>NA</td>\n",
       "      <td>NA</td>\n",
       "    </tr>\n",
       "    <tr>\n",
       "      <th>1</th>\n",
       "      <td>6414100192</td>\n",
       "      <td>20141209T000000</td>\n",
       "      <td>538000.0</td>\n",
       "      <td>3</td>\n",
       "      <td>2.25</td>\n",
       "      <td>3</td>\n",
       "      <td>7242</td>\n",
       "      <td>2.0</td>\n",
       "      <td>0</td>\n",
       "      <td>0</td>\n",
       "      <td>3</td>\n",
       "      <td>7</td>\n",
       "      <td>2170</td>\n",
       "      <td>400</td>\n",
       "      <td>1951</td>\n",
       "      <td>1991</td>\n",
       "      <td>98125</td>\n",
       "      <td>47.7210</td>\n",
       "      <td>-122.319</td>\n",
       "      <td>1690</td>\n",
       "      <td>7639</td>\n",
       "      <td>2.0</td>\n",
       "      <td>NaN</td>\n",
       "      <td>NA</td>\n",
       "      <td>NA</td>\n",
       "      <td>NA</td>\n",
       "      <td>NA</td>\n",
       "    </tr>\n",
       "  </tbody>\n",
       "</table>\n",
       "</div>"
      ],
      "text/plain": [
       "           id             date     price  bedrooms  bathrooms  sqft_living  \\\n",
       "0  7129300520  20141013T000000  221900.0         3       1.00         1180   \n",
       "1  6414100192  20141209T000000  538000.0         3       2.25            3   \n",
       "\n",
       "   sqft_lot  floors  waterfront  view  condition  grade  sqft_above  \\\n",
       "0      5650     1.0           0     0          3      7        1180   \n",
       "1      7242     2.0           0     0          3      7        2170   \n",
       "\n",
       "   sqft_basement  yr_built  yr_renovated  zipcode      lat     long  \\\n",
       "0              0      1955             0    98178  47.5112 -122.257   \n",
       "1            400      1951          1991    98125  47.7210 -122.319   \n",
       "\n",
       "   sqft_living15  sqft_lot15  level  size_living Place_ID OSM_TypeID Country  \\\n",
       "0           1340        5650    0.0          0.0       NA         NA      NA   \n",
       "1           1690        7639    2.0          NaN       NA         NA      NA   \n",
       "\n",
       "  Country_Code  \n",
       "0           NA  \n",
       "1           NA  "
      ]
     },
     "execution_count": 11,
     "metadata": {},
     "output_type": "execute_result"
    }
   ],
   "source": [
    "pd.set_option('display.max_rows', 100)\n",
    "pd.set_option('display.max_columns', 27)\n",
    "df.head(2)"
   ]
  },
  {
   "cell_type": "markdown",
   "id": "8ca02090",
   "metadata": {},
   "source": [
    "# 4.0 Adicione os seguintes filtros no Mapa:\n",
    "* Tamanho mínimo da área da sala de estar.\n",
    "* Número mínimo de banheiros.\n",
    "* Valor máximo do Preço.\n",
    "* Tamanho máximo da área do porão.\n",
    "* Filtro das consdições do imóvel.\n",
    "* Filtro por ano de construção."
   ]
  },
  {
   "cell_type": "code",
   "execution_count": 12,
   "id": "1da0bb09",
   "metadata": {
    "ExecuteTime": {
     "end_time": "2021-05-31T20:53:11.775584Z",
     "start_time": "2021-05-31T20:53:11.675851Z"
    }
   },
   "outputs": [],
   "source": [
    "#Interactive buttons\n",
    "style = {'description_width':'initial'}\n",
    "\n",
    "area_limit = widgets.IntSlider(value=1240, min=3, max=2547, \n",
    "                               step=1, description='Maximum Area', \n",
    "                               disable=False, style=style)\n",
    "\n",
    "bathrooms_limit = widgets.IntSlider(value=2, min=0, max=8, \n",
    "                               step=1, description='Bathrooms', \n",
    "                               disable=False, style=style)\n",
    "\n",
    "price_limit = widgets.IntSlider(value=450000, min=75000, max=7700000, \n",
    "                               step=1, description='Maximum Price', \n",
    "                               disable=False, style=style)\n",
    "\n",
    "basement_limit = widgets.IntSlider(value=550, min=0, max=4820, \n",
    "                               step=1, description='Maximum Basement', \n",
    "                               disable=False, style=style)\n",
    "\n",
    "condition_limit = widgets.IntSlider(value=3, min=1, max=5, \n",
    "                               step=1, description='Maximum Condition House', \n",
    "                               disable=False, style=style)\n",
    "\n",
    "year_limit = widgets.IntSlider(value=1958, min=1900, max=2015, \n",
    "                               step=1, description='Maximum Year Built', \n",
    "                               disable=False, style=style)"
   ]
  },
  {
   "cell_type": "code",
   "execution_count": 13,
   "id": "9c7018c4",
   "metadata": {
    "ExecuteTime": {
     "end_time": "2021-05-31T20:53:24.636776Z",
     "start_time": "2021-05-31T20:53:24.614837Z"
    }
   },
   "outputs": [],
   "source": [
    "def update_map(df, limit1, limit2, limit3, limit4, condition, construction):\n",
    "\n",
    "    houses = df[(df['sqft_living'] >= limit1) & (df['bathrooms'] >= limit2) &\n",
    "                (df['price'] <= limit3) & (df['sqft_basement'] <= limit4) &\n",
    "                (df['condition'] >= condition) & (df['yr_built'] <= construction)][['id', 'lat', \n",
    "                'long', 'sqft_living', 'bathrooms', 'price', 'sqft_basement', 'condition', 'yr_built', 'level']]\n",
    "    \n",
    "    fig = px.scatter_mapbox(houses,\n",
    "                           lat='lat',\n",
    "                           lon='long',\n",
    "                           color='level',\n",
    "                           size='price',\n",
    "                           color_continuous_scale=px.colors.cyclical.IceFire,\n",
    "                           size_max=15,\n",
    "                           zoom=10)\n",
    "    fig.update_layout(mapbox_style='open-street-map')\n",
    "    fig.update_layout(height=600, margin={'r':0, 't':0, 'l':0, 'b':0})\n",
    "    fig.show()"
   ]
  },
  {
   "cell_type": "code",
   "execution_count": 14,
   "id": "b0f851a5",
   "metadata": {
    "ExecuteTime": {
     "end_time": "2021-05-31T20:53:27.870617Z",
     "start_time": "2021-05-31T20:53:26.506457Z"
    }
   },
   "outputs": [
    {
     "data": {
      "application/vnd.jupyter.widget-view+json": {
       "model_id": "28e6522bc9724990987f73fc050b511d",
       "version_major": 2,
       "version_minor": 0
      },
      "text/plain": [
       "interactive(children=(IntSlider(value=1240, description='Maximum Area', max=2547, min=3, style=SliderStyle(des…"
      ]
     },
     "metadata": {},
     "output_type": "display_data"
    }
   ],
   "source": [
    "widgets.interactive(update_map, df=fixed(df), limit1=area_limit, limit2=bathrooms_limit, limit3=price_limit,\n",
    "                   limit4=basement_limit, condition=condition_limit, construction=year_limit)"
   ]
  },
  {
   "cell_type": "markdown",
   "id": "023bcce2",
   "metadata": {},
   "source": [
    "# 5. Adicione os seguintes filtros no Dashboard:\n",
    "\n",
    "* Filtro por data disponível para compra\n",
    "* Filtro por ano de renovação\n",
    "* Filtro se possui vista para água ou não."
   ]
  },
  {
   "cell_type": "code",
   "execution_count": 16,
   "id": "10e9d40d",
   "metadata": {
    "ExecuteTime": {
     "end_time": "2021-05-31T20:57:02.070468Z",
     "start_time": "2021-05-31T20:57:01.578164Z"
    }
   },
   "outputs": [],
   "source": [
    "#data = pd.read_csv('C:/Users/Ayron/repos/Datasets/kc_house_data.csv')\n",
    "\n",
    "df['year'] = pd.to_datetime(df['date']).dt.strftime('%Y')\n",
    "df['date'] = pd.to_datetime(df['date']).dt.strftime('%Y-%m-%d')\n",
    "df['year_week'] = pd.to_datetime(df['date']).dt.strftime('%Y-%m-%U')"
   ]
  },
  {
   "cell_type": "code",
   "execution_count": 23,
   "id": "74792bac",
   "metadata": {
    "ExecuteTime": {
     "end_time": "2021-05-31T21:01:53.640681Z",
     "start_time": "2021-05-31T21:01:53.494950Z"
    }
   },
   "outputs": [],
   "source": [
    "#Widgets control\n",
    "\n",
    "date_limit = widgets.SelectionSlider(options=df['date'].sort_values().unique().tolist(), \n",
    "                               value='2014-11-30', \n",
    "                               description='Disponível', \n",
    "                               disable=False, \n",
    "                               continuous_update=False, \n",
    "                               orientation='horizontal', \n",
    "                               readout=True)\n",
    "\n",
    "renovated_limit = widgets.BoundedIntText(value=1943,\n",
    "                                         min=1930,\n",
    "                                         max=2015,\n",
    "                                         step=1,\n",
    "                                         description='Ano de Renovação',\n",
    "                                         disabled=False)\n",
    "\n",
    "df['is_waterfront'] = df['waterfront'].apply(lambda x:'yes' if x == 1 else 'no')\n",
    "\n",
    "waterfront_limit = widgets.Dropdown(options= df['is_waterfront'].unique().tolist(), \n",
    "                                    value='yes', description='Water View', disable=False)"
   ]
  },
  {
   "cell_type": "code",
   "execution_count": 24,
   "id": "36eccfb1",
   "metadata": {
    "ExecuteTime": {
     "end_time": "2021-05-31T21:01:54.330812Z",
     "start_time": "2021-05-31T21:01:54.309892Z"
    }
   },
   "outputs": [],
   "source": [
    "def update_map(df, limit, option, year):\n",
    "    \n",
    "    #Filter data\n",
    "    \n",
    "    df_2 = df[(df['date'] >= limit) & (df['is_waterfront'] == option) & \n",
    "              (df['yr_renovated'] >= year)].copy()\n",
    "    \n",
    "    fig = plt.figure(figsize=(21,12))\n",
    "              \n",
    "    specs = gridspec.GridSpec(ncols=2, nrows=2, figure=fig)\n",
    "    \n",
    "    ax1 = fig.add_subplot(specs[0, :]) # First rows\n",
    "    ax2 = fig.add_subplot(specs[1, 0]) # Second Row First Column\n",
    "    ax3 = fig.add_subplot(specs[1, 1]) # Second Row Second Column\n",
    "    \n",
    "    by_year = df_2[['id', 'year',]].groupby('year').sum().reset_index()\n",
    "    ax1.bar(by_year['year'], by_year['id'])\n",
    "    \n",
    "    by_day = df_2[['id', 'date']].groupby('date').mean().reset_index()\n",
    "    ax2.plot(by_day['date'], by_day['id'])\n",
    "    ax2.set_title('title: Avg Price by Day')\n",
    "\n",
    "    by_week_of_year = df_2[['id', 'year_week']].groupby('year_week').mean().reset_index()\n",
    "    ax3.bar(by_week_of_year['year_week'], by_week_of_year['id'])\n",
    "    ax3.set_title('title: Avg Price by Week Of Year')\n",
    "    plt.xticks(rotation=60);"
   ]
  },
  {
   "cell_type": "code",
   "execution_count": 25,
   "id": "1f0e0f0f",
   "metadata": {
    "ExecuteTime": {
     "end_time": "2021-05-31T21:01:55.669524Z",
     "start_time": "2021-05-31T21:01:54.994849Z"
    },
    "scrolled": true
   },
   "outputs": [
    {
     "data": {
      "application/vnd.jupyter.widget-view+json": {
       "model_id": "e9303126d31f4e1d9bd9f7828dd4dea2",
       "version_major": 2,
       "version_minor": 0
      },
      "text/plain": [
       "interactive(children=(SelectionSlider(continuous_update=False, description='Disponível', index=211, options=('…"
      ]
     },
     "metadata": {},
     "output_type": "display_data"
    }
   ],
   "source": [
    "widgets.interactive(update_map, df=fixed(df), limit=date_limit, option=waterfront_limit, year=renovated_limit)"
   ]
  },
  {
   "cell_type": "code",
   "execution_count": null,
   "id": "bfad0b49",
   "metadata": {},
   "outputs": [],
   "source": []
  }
 ],
 "metadata": {
  "hide_input": false,
  "kernelspec": {
   "display_name": "Python 3",
   "language": "python",
   "name": "python3"
  },
  "language_info": {
   "codemirror_mode": {
    "name": "ipython",
    "version": 3
   },
   "file_extension": ".py",
   "mimetype": "text/x-python",
   "name": "python",
   "nbconvert_exporter": "python",
   "pygments_lexer": "ipython3",
   "version": "3.8.10"
  }
 },
 "nbformat": 4,
 "nbformat_minor": 5
}

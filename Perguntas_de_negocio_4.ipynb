{
 "cells": [
  {
   "cell_type": "markdown",
   "id": "5e3a595b",
   "metadata": {
    "ExecuteTime": {
     "end_time": "2021-05-25T22:44:11.324951Z",
     "start_time": "2021-05-25T22:44:11.318968Z"
    }
   },
   "source": [
    "# Imports"
   ]
  },
  {
   "cell_type": "code",
   "execution_count": 21,
   "id": "d06a577e",
   "metadata": {
    "ExecuteTime": {
     "end_time": "2021-05-25T23:36:30.001583Z",
     "start_time": "2021-05-25T23:36:29.922547Z"
    }
   },
   "outputs": [],
   "source": [
    "import pandas as pd\n",
    "from matplotlib import pyplot as plt\n",
    "from geopy.geocoders import Nominatim"
   ]
  },
  {
   "cell_type": "markdown",
   "id": "28fd8045",
   "metadata": {},
   "source": [
    "# Reading Data"
   ]
  },
  {
   "cell_type": "code",
   "execution_count": 7,
   "id": "ec0b5bb9",
   "metadata": {
    "ExecuteTime": {
     "end_time": "2021-05-25T22:46:40.722503Z",
     "start_time": "2021-05-25T22:46:40.635517Z"
    }
   },
   "outputs": [],
   "source": [
    "pd.set_option('display.max_columns', 25)\n",
    "df = pd.read_csv('C:/Users/Ayron/repos/Datasets/kc_house_data.csv')"
   ]
  },
  {
   "cell_type": "markdown",
   "id": "abbd4651",
   "metadata": {},
   "source": [
    "# 1. Qual a média do preço de compra dos imóveis por \"Nível\"?\n"
   ]
  },
  {
   "cell_type": "code",
   "execution_count": 1,
   "id": "c86d34ac",
   "metadata": {
    "ExecuteTime": {
     "end_time": "2021-05-25T22:43:32.757418Z",
     "start_time": "2021-05-25T22:43:32.742425Z"
    }
   },
   "outputs": [],
   "source": [
    "# Nível 0 => Preço entre $ 0 e $ 321.950\n",
    "# Nível 1 => Preço entre $ 321.950 e $ 450.000\n",
    "# Nível 2 => Preço entre $ 450.000 e $ 645.000\n",
    "# Nível 3 => Acima $ 645.000"
   ]
  },
  {
   "cell_type": "code",
   "execution_count": 15,
   "id": "25b39433",
   "metadata": {
    "ExecuteTime": {
     "end_time": "2021-05-25T23:09:41.989980Z",
     "start_time": "2021-05-25T23:09:32.105618Z"
    }
   },
   "outputs": [],
   "source": [
    "for i in range(len(df)):\n",
    "    if (df.loc[i, 'price'] > 0) & (df.loc[i, 'price'] < 321950):\n",
    "        df.loc[i, 'level'] = 0\n",
    "    elif (df.loc[i, 'price'] >= 321950) & (df.loc[i, 'price'] < 450000):\n",
    "        df.loc[i, 'level'] = 1\n",
    "    elif (df.loc[i, 'price'] >= 450000) & (df.loc[i, 'price'] < 645000):\n",
    "        df.loc[i, 'level'] = 2\n",
    "    else:\n",
    "        df.loc[i, 'level'] = 3"
   ]
  },
  {
   "cell_type": "code",
   "execution_count": 16,
   "id": "a8062c0c",
   "metadata": {
    "ExecuteTime": {
     "end_time": "2021-05-25T23:09:51.337276Z",
     "start_time": "2021-05-25T23:09:51.288655Z"
    }
   },
   "outputs": [
    {
     "data": {
      "text/html": [
       "<div>\n",
       "<style scoped>\n",
       "    .dataframe tbody tr th:only-of-type {\n",
       "        vertical-align: middle;\n",
       "    }\n",
       "\n",
       "    .dataframe tbody tr th {\n",
       "        vertical-align: top;\n",
       "    }\n",
       "\n",
       "    .dataframe thead th {\n",
       "        text-align: right;\n",
       "    }\n",
       "</style>\n",
       "<table border=\"1\" class=\"dataframe\">\n",
       "  <thead>\n",
       "    <tr style=\"text-align: right;\">\n",
       "      <th></th>\n",
       "      <th>level</th>\n",
       "      <th>price</th>\n",
       "    </tr>\n",
       "  </thead>\n",
       "  <tbody>\n",
       "    <tr>\n",
       "      <th>0</th>\n",
       "      <td>0</td>\n",
       "      <td>251544.621507</td>\n",
       "    </tr>\n",
       "    <tr>\n",
       "      <th>1</th>\n",
       "      <td>1</td>\n",
       "      <td>383585.205332</td>\n",
       "    </tr>\n",
       "    <tr>\n",
       "      <th>2</th>\n",
       "      <td>2</td>\n",
       "      <td>536164.422840</td>\n",
       "    </tr>\n",
       "    <tr>\n",
       "      <th>3</th>\n",
       "      <td>3</td>\n",
       "      <td>985008.983189</td>\n",
       "    </tr>\n",
       "  </tbody>\n",
       "</table>\n",
       "</div>"
      ],
      "text/plain": [
       "   level          price\n",
       "0      0  251544.621507\n",
       "1      1  383585.205332\n",
       "2      2  536164.422840\n",
       "3      3  985008.983189"
      ]
     },
     "execution_count": 16,
     "metadata": {},
     "output_type": "execute_result"
    }
   ],
   "source": [
    "df[['price', 'level']].groupby('level').mean().reset_index()"
   ]
  },
  {
   "cell_type": "markdown",
   "id": "842c8c41",
   "metadata": {},
   "source": [
    "# 2. Qual a média dor tamanho da sala de estar dos imóveis por \"Size\"?\n",
    "* Size 0 => Tamanho entre 0 e 1427 sqft\n",
    "* Size 1 => Tamanho entre 1427 e 1910 sqft\n",
    "* Size 2 => Tamanho entre 1910 e 2550 sqft\n",
    "* Size 3 => Tamanho acima de 2550 sqft"
   ]
  },
  {
   "cell_type": "code",
   "execution_count": 17,
   "id": "257cd7fb",
   "metadata": {
    "ExecuteTime": {
     "end_time": "2021-05-25T23:17:54.096960Z",
     "start_time": "2021-05-25T23:17:47.005432Z"
    }
   },
   "outputs": [],
   "source": [
    "for i in range(len(df)):\n",
    "    if (df.loc[i, 'sqft_living'] > 0) & (df.loc[i, 'sqft_living'] < 1427):\n",
    "        df.loc[i, 'size_living'] = 0\n",
    "    elif (df.loc[i, 'sqft_living'] >= 1427) & (df.loc[i, 'sqft_living'] < 1910):\n",
    "        df.loc[i, 'size_living'] = 1\n",
    "    elif (df.loc[i, 'sqft_living'] >= 1910) & (df.loc[i, 'sqft_living'] < 2550):\n",
    "        df.loc[i, 'size_living'] = 2\n",
    "    else:\n",
    "        df.loc[i, 'sqft_living'] = 3"
   ]
  },
  {
   "cell_type": "code",
   "execution_count": 18,
   "id": "92d440aa",
   "metadata": {
    "ExecuteTime": {
     "end_time": "2021-05-25T23:19:21.193155Z",
     "start_time": "2021-05-25T23:19:21.160248Z"
    }
   },
   "outputs": [
    {
     "data": {
      "text/html": [
       "<div>\n",
       "<style scoped>\n",
       "    .dataframe tbody tr th:only-of-type {\n",
       "        vertical-align: middle;\n",
       "    }\n",
       "\n",
       "    .dataframe tbody tr th {\n",
       "        vertical-align: top;\n",
       "    }\n",
       "\n",
       "    .dataframe thead th {\n",
       "        text-align: right;\n",
       "    }\n",
       "</style>\n",
       "<table border=\"1\" class=\"dataframe\">\n",
       "  <thead>\n",
       "    <tr style=\"text-align: right;\">\n",
       "      <th></th>\n",
       "      <th>size_living</th>\n",
       "      <th>sqft_living</th>\n",
       "    </tr>\n",
       "  </thead>\n",
       "  <tbody>\n",
       "    <tr>\n",
       "      <th>0</th>\n",
       "      <td>0.0</td>\n",
       "      <td>1123.776421</td>\n",
       "    </tr>\n",
       "    <tr>\n",
       "      <th>1</th>\n",
       "      <td>1.0</td>\n",
       "      <td>1661.198088</td>\n",
       "    </tr>\n",
       "    <tr>\n",
       "      <th>2</th>\n",
       "      <td>2.0</td>\n",
       "      <td>2202.700239</td>\n",
       "    </tr>\n",
       "  </tbody>\n",
       "</table>\n",
       "</div>"
      ],
      "text/plain": [
       "   size_living  sqft_living\n",
       "0          0.0  1123.776421\n",
       "1          1.0  1661.198088\n",
       "2          2.0  2202.700239"
      ]
     },
     "execution_count": 18,
     "metadata": {},
     "output_type": "execute_result"
    }
   ],
   "source": [
    "df[['sqft_living', 'size_living']].groupby('size_living').mean().reset_index()"
   ]
  },
  {
   "cell_type": "markdown",
   "id": "c0860829",
   "metadata": {},
   "source": [
    "# 3. Adicione as seguintes informações ao conjunto de dados original:\n",
    "* Place ID: Identificação da localização\n",
    "* OSM Type: Open Street Map Type\n",
    "* Country: Nome do País\n",
    "* Country Code: Código do País"
   ]
  },
  {
   "cell_type": "code",
   "execution_count": null,
   "id": "02c84497",
   "metadata": {},
   "outputs": [],
   "source": [
    "#Creaty empty rows\n",
    "df['Place_ID'] = 'NA'\n",
    "df['OSM_TypeID'] = 'NA'\n",
    "df['Country'] = 'NA'\n",
    "df['Country_Code'] = 'NA'\n",
    "\n",
    "#Inicializando Nominatim API\n",
    "geolocator = Nominatim(user_agent='geoapiExercises')\n",
    "\n",
    "for i in range(len(df)):\n",
    "    #Make query\n",
    "    query = str(df.loc[i, 'lat']) + ',' + str(df.loc[i, 'long'])\n",
    "    \n",
    "    #API Request\n",
    "    response = geolocator.reverse(query)\n",
    "\n",
    "\n",
    "\n",
    "df.loc[0, ]"
   ]
  },
  {
   "cell_type": "code",
   "execution_count": null,
   "id": "55837936",
   "metadata": {},
   "outputs": [],
   "source": []
  },
  {
   "cell_type": "code",
   "execution_count": null,
   "id": "10e9d40d",
   "metadata": {},
   "outputs": [],
   "source": []
  },
  {
   "cell_type": "code",
   "execution_count": null,
   "id": "74792bac",
   "metadata": {},
   "outputs": [],
   "source": []
  }
 ],
 "metadata": {
  "hide_input": false,
  "kernelspec": {
   "display_name": "Python 3",
   "language": "python",
   "name": "python3"
  },
  "language_info": {
   "codemirror_mode": {
    "name": "ipython",
    "version": 3
   },
   "file_extension": ".py",
   "mimetype": "text/x-python",
   "name": "python",
   "nbconvert_exporter": "python",
   "pygments_lexer": "ipython3",
   "version": "3.8.10"
  }
 },
 "nbformat": 4,
 "nbformat_minor": 5
}

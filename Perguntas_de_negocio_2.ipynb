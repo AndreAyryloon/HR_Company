{
 "cells": [
  {
   "cell_type": "markdown",
   "id": "b4a6cf13",
   "metadata": {},
   "source": [
    "# Imports"
   ]
  },
  {
   "cell_type": "code",
   "execution_count": 143,
   "id": "9a107a97",
   "metadata": {
    "ExecuteTime": {
     "end_time": "2021-05-24T00:59:12.728384Z",
     "start_time": "2021-05-24T00:59:12.720407Z"
    }
   },
   "outputs": [],
   "source": [
    "import pandas as pd\n",
    "import janitor"
   ]
  },
  {
   "cell_type": "markdown",
   "id": "717b35fb",
   "metadata": {},
   "source": [
    "# Lendo dados"
   ]
  },
  {
   "cell_type": "code",
   "execution_count": 162,
   "id": "94a6bbaf",
   "metadata": {
    "ExecuteTime": {
     "end_time": "2021-05-24T01:00:29.104211Z",
     "start_time": "2021-05-24T01:00:29.022376Z"
    }
   },
   "outputs": [],
   "source": [
    "pd.set_option('display.max_columns', 21)\n",
    "df = pd.read_csv('C:/Users/Ayron/repos/Datasets/kc_house_data.csv')"
   ]
  },
  {
   "cell_type": "code",
   "execution_count": 163,
   "id": "aaeaa4b8",
   "metadata": {
    "ExecuteTime": {
     "end_time": "2021-05-24T01:00:30.152308Z",
     "start_time": "2021-05-24T01:00:30.112415Z"
    }
   },
   "outputs": [
    {
     "data": {
      "text/html": [
       "<div>\n",
       "<style scoped>\n",
       "    .dataframe tbody tr th:only-of-type {\n",
       "        vertical-align: middle;\n",
       "    }\n",
       "\n",
       "    .dataframe tbody tr th {\n",
       "        vertical-align: top;\n",
       "    }\n",
       "\n",
       "    .dataframe thead th {\n",
       "        text-align: right;\n",
       "    }\n",
       "</style>\n",
       "<table border=\"1\" class=\"dataframe\">\n",
       "  <thead>\n",
       "    <tr style=\"text-align: right;\">\n",
       "      <th></th>\n",
       "      <th>id</th>\n",
       "      <th>date</th>\n",
       "      <th>price</th>\n",
       "      <th>bedrooms</th>\n",
       "      <th>bathrooms</th>\n",
       "      <th>sqft_living</th>\n",
       "      <th>sqft_lot</th>\n",
       "      <th>floors</th>\n",
       "      <th>waterfront</th>\n",
       "      <th>view</th>\n",
       "      <th>condition</th>\n",
       "      <th>grade</th>\n",
       "      <th>sqft_above</th>\n",
       "      <th>sqft_basement</th>\n",
       "      <th>yr_built</th>\n",
       "      <th>yr_renovated</th>\n",
       "      <th>zipcode</th>\n",
       "      <th>lat</th>\n",
       "      <th>long</th>\n",
       "      <th>sqft_living15</th>\n",
       "      <th>sqft_lot15</th>\n",
       "    </tr>\n",
       "  </thead>\n",
       "  <tbody>\n",
       "    <tr>\n",
       "      <th>0</th>\n",
       "      <td>7129300520</td>\n",
       "      <td>20141013T000000</td>\n",
       "      <td>221900.0</td>\n",
       "      <td>3</td>\n",
       "      <td>1.00</td>\n",
       "      <td>1180</td>\n",
       "      <td>5650</td>\n",
       "      <td>1.0</td>\n",
       "      <td>0</td>\n",
       "      <td>0</td>\n",
       "      <td>3</td>\n",
       "      <td>7</td>\n",
       "      <td>1180</td>\n",
       "      <td>0</td>\n",
       "      <td>1955</td>\n",
       "      <td>0</td>\n",
       "      <td>98178</td>\n",
       "      <td>47.5112</td>\n",
       "      <td>-122.257</td>\n",
       "      <td>1340</td>\n",
       "      <td>5650</td>\n",
       "    </tr>\n",
       "    <tr>\n",
       "      <th>1</th>\n",
       "      <td>6414100192</td>\n",
       "      <td>20141209T000000</td>\n",
       "      <td>538000.0</td>\n",
       "      <td>3</td>\n",
       "      <td>2.25</td>\n",
       "      <td>2570</td>\n",
       "      <td>7242</td>\n",
       "      <td>2.0</td>\n",
       "      <td>0</td>\n",
       "      <td>0</td>\n",
       "      <td>3</td>\n",
       "      <td>7</td>\n",
       "      <td>2170</td>\n",
       "      <td>400</td>\n",
       "      <td>1951</td>\n",
       "      <td>1991</td>\n",
       "      <td>98125</td>\n",
       "      <td>47.7210</td>\n",
       "      <td>-122.319</td>\n",
       "      <td>1690</td>\n",
       "      <td>7639</td>\n",
       "    </tr>\n",
       "  </tbody>\n",
       "</table>\n",
       "</div>"
      ],
      "text/plain": [
       "           id             date     price  bedrooms  bathrooms  sqft_living  \\\n",
       "0  7129300520  20141013T000000  221900.0         3       1.00         1180   \n",
       "1  6414100192  20141209T000000  538000.0         3       2.25         2570   \n",
       "\n",
       "   sqft_lot  floors  waterfront  view  condition  grade  sqft_above  \\\n",
       "0      5650     1.0           0     0          3      7        1180   \n",
       "1      7242     2.0           0     0          3      7        2170   \n",
       "\n",
       "   sqft_basement  yr_built  yr_renovated  zipcode      lat     long  \\\n",
       "0              0      1955             0    98178  47.5112 -122.257   \n",
       "1            400      1951          1991    98125  47.7210 -122.319   \n",
       "\n",
       "   sqft_living15  sqft_lot15  \n",
       "0           1340        5650  \n",
       "1           1690        7639  "
      ]
     },
     "execution_count": 163,
     "metadata": {},
     "output_type": "execute_result"
    }
   ],
   "source": [
    "df.head(2)"
   ]
  },
  {
   "cell_type": "code",
   "execution_count": 164,
   "id": "2b7b9f89",
   "metadata": {
    "ExecuteTime": {
     "end_time": "2021-05-24T01:00:30.984372Z",
     "start_time": "2021-05-24T01:00:30.964422Z"
    }
   },
   "outputs": [
    {
     "data": {
      "text/plain": [
       "(21613, 21)"
      ]
     },
     "execution_count": 164,
     "metadata": {},
     "output_type": "execute_result"
    }
   ],
   "source": [
    "df.shape"
   ]
  },
  {
   "cell_type": "code",
   "execution_count": 165,
   "id": "6c2fc368",
   "metadata": {
    "ExecuteTime": {
     "end_time": "2021-05-24T01:00:31.775433Z",
     "start_time": "2021-05-24T01:00:31.760444Z"
    }
   },
   "outputs": [
    {
     "data": {
      "text/plain": [
       "id                 int64\n",
       "date              object\n",
       "price            float64\n",
       "bedrooms           int64\n",
       "bathrooms        float64\n",
       "sqft_living        int64\n",
       "sqft_lot           int64\n",
       "floors           float64\n",
       "waterfront         int64\n",
       "view               int64\n",
       "condition          int64\n",
       "grade              int64\n",
       "sqft_above         int64\n",
       "sqft_basement      int64\n",
       "yr_built           int64\n",
       "yr_renovated       int64\n",
       "zipcode            int64\n",
       "lat              float64\n",
       "long             float64\n",
       "sqft_living15      int64\n",
       "sqft_lot15         int64\n",
       "dtype: object"
      ]
     },
     "execution_count": 165,
     "metadata": {},
     "output_type": "execute_result"
    }
   ],
   "source": [
    "df.dtypes"
   ]
  },
  {
   "cell_type": "code",
   "execution_count": 166,
   "id": "6c3d8ebb",
   "metadata": {
    "ExecuteTime": {
     "end_time": "2021-05-24T01:00:32.621354Z",
     "start_time": "2021-05-24T01:00:32.602409Z"
    }
   },
   "outputs": [],
   "source": [
    "df['date'] = pd.to_datetime(df['date'])\n",
    "#df['date'] = pd.to_datetime(df[\"date\"].dt.strftime('%Y-%m-%d'))"
   ]
  },
  {
   "cell_type": "markdown",
   "id": "3c488640",
   "metadata": {},
   "source": [
    "# Manipulação dados"
   ]
  },
  {
   "cell_type": "markdown",
   "id": "f39d93f0",
   "metadata": {},
   "source": [
    "### 1.\tCrie uma nova coluna chamada “house_age”\n",
    "    a.\tSe o valor da coluna “date” for maior que 2014-01-01 => ‘new_house’\n",
    "    b.\tSe o valor da coluna “date” for menor que 2014-01-01 => ‘old_house’\n",
    "    \n",
    "    Resposta: Não há 'old_house', visto que não nenhuma casa com data inferior 2014-01-01 na feature 'date'."
   ]
  },
  {
   "cell_type": "code",
   "execution_count": 167,
   "id": "daa9d228",
   "metadata": {
    "ExecuteTime": {
     "end_time": "2021-05-24T01:00:35.457718Z",
     "start_time": "2021-05-24T01:00:35.420196Z"
    }
   },
   "outputs": [
    {
     "data": {
      "text/plain": [
       "(0, 21)"
      ]
     },
     "execution_count": 167,
     "metadata": {},
     "output_type": "execute_result"
    }
   ],
   "source": [
    "# df.loc[df.date < '2014-01-01', 'house_age'] ='old_house' (outra forma de filtrar)\n",
    "df_filtered = df.filter_date('date', '1700-01-01', '2014-01-01')\n",
    "df_filtered.shape"
   ]
  },
  {
   "cell_type": "code",
   "execution_count": 168,
   "id": "5ac95b19",
   "metadata": {
    "ExecuteTime": {
     "end_time": "2021-05-24T01:00:36.156436Z",
     "start_time": "2021-05-24T01:00:36.144469Z"
    }
   },
   "outputs": [],
   "source": [
    "df['house_age'] = 'new_house'"
   ]
  },
  {
   "cell_type": "code",
   "execution_count": 169,
   "id": "b92d44e2",
   "metadata": {
    "ExecuteTime": {
     "end_time": "2021-05-24T01:00:36.922857Z",
     "start_time": "2021-05-24T01:00:36.909891Z"
    }
   },
   "outputs": [
    {
     "data": {
      "text/plain": [
       "new_house    21613\n",
       "Name: house_age, dtype: int64"
      ]
     },
     "execution_count": 169,
     "metadata": {},
     "output_type": "execute_result"
    }
   ],
   "source": [
    "df['house_age'].value_counts()"
   ]
  },
  {
   "cell_type": "markdown",
   "id": "e7b1466c",
   "metadata": {},
   "source": [
    "### 2.\tCrie uma nova coluna chamada: “dormitory_type”\n",
    "    a.\tSe o valor da coluna “bedrooms” for igual a 1 => ‘studio’\n",
    "    b.\tSe o valor da coluna “bedrooms” for igual a 2 => ‘apartment’\n",
    "    c.\tSe o valor da coluna “bedrooms” for maior que 2 => ‘house’\n"
   ]
  },
  {
   "cell_type": "code",
   "execution_count": 170,
   "id": "fc16b5e8",
   "metadata": {
    "ExecuteTime": {
     "end_time": "2021-05-24T01:00:38.872330Z",
     "start_time": "2021-05-24T01:00:38.862357Z"
    }
   },
   "outputs": [
    {
     "data": {
      "text/plain": [
       "3     9824\n",
       "4     6882\n",
       "2     2760\n",
       "5     1601\n",
       "6      272\n",
       "1      199\n",
       "7       38\n",
       "0       13\n",
       "8       13\n",
       "9        6\n",
       "10       3\n",
       "33       1\n",
       "11       1\n",
       "Name: bedrooms, dtype: int64"
      ]
     },
     "execution_count": 170,
     "metadata": {},
     "output_type": "execute_result"
    }
   ],
   "source": [
    "df['bedrooms'].value_counts()"
   ]
  },
  {
   "cell_type": "code",
   "execution_count": 171,
   "id": "e0bbe8aa",
   "metadata": {
    "ExecuteTime": {
     "end_time": "2021-05-24T01:00:39.804386Z",
     "start_time": "2021-05-24T01:00:39.786435Z"
    }
   },
   "outputs": [],
   "source": [
    "df['dormitory_type'] = 'house'"
   ]
  },
  {
   "cell_type": "code",
   "execution_count": 172,
   "id": "665774ab",
   "metadata": {
    "ExecuteTime": {
     "end_time": "2021-05-24T01:00:40.638921Z",
     "start_time": "2021-05-24T01:00:40.627942Z"
    }
   },
   "outputs": [],
   "source": [
    "df.loc[df.bedrooms == 1, 'dormitory_type'] ='studio'\n",
    "df.loc[df.bedrooms == 2, 'dormitory_type'] ='apartment'"
   ]
  },
  {
   "cell_type": "code",
   "execution_count": 173,
   "id": "3ae5318a",
   "metadata": {
    "ExecuteTime": {
     "end_time": "2021-05-24T01:00:41.555547Z",
     "start_time": "2021-05-24T01:00:41.533606Z"
    }
   },
   "outputs": [
    {
     "data": {
      "text/html": [
       "<div>\n",
       "<style scoped>\n",
       "    .dataframe tbody tr th:only-of-type {\n",
       "        vertical-align: middle;\n",
       "    }\n",
       "\n",
       "    .dataframe tbody tr th {\n",
       "        vertical-align: top;\n",
       "    }\n",
       "\n",
       "    .dataframe thead th {\n",
       "        text-align: right;\n",
       "    }\n",
       "</style>\n",
       "<table border=\"1\" class=\"dataframe\">\n",
       "  <thead>\n",
       "    <tr style=\"text-align: right;\">\n",
       "      <th></th>\n",
       "      <th>bedrooms</th>\n",
       "      <th>dormitory_type</th>\n",
       "    </tr>\n",
       "  </thead>\n",
       "  <tbody>\n",
       "    <tr>\n",
       "      <th>0</th>\n",
       "      <td>3</td>\n",
       "      <td>house</td>\n",
       "    </tr>\n",
       "    <tr>\n",
       "      <th>1</th>\n",
       "      <td>3</td>\n",
       "      <td>house</td>\n",
       "    </tr>\n",
       "    <tr>\n",
       "      <th>2</th>\n",
       "      <td>2</td>\n",
       "      <td>apartment</td>\n",
       "    </tr>\n",
       "    <tr>\n",
       "      <th>3</th>\n",
       "      <td>4</td>\n",
       "      <td>house</td>\n",
       "    </tr>\n",
       "    <tr>\n",
       "      <th>4</th>\n",
       "      <td>3</td>\n",
       "      <td>house</td>\n",
       "    </tr>\n",
       "    <tr>\n",
       "      <th>...</th>\n",
       "      <td>...</td>\n",
       "      <td>...</td>\n",
       "    </tr>\n",
       "    <tr>\n",
       "      <th>21608</th>\n",
       "      <td>3</td>\n",
       "      <td>house</td>\n",
       "    </tr>\n",
       "    <tr>\n",
       "      <th>21609</th>\n",
       "      <td>4</td>\n",
       "      <td>house</td>\n",
       "    </tr>\n",
       "    <tr>\n",
       "      <th>21610</th>\n",
       "      <td>2</td>\n",
       "      <td>apartment</td>\n",
       "    </tr>\n",
       "    <tr>\n",
       "      <th>21611</th>\n",
       "      <td>3</td>\n",
       "      <td>house</td>\n",
       "    </tr>\n",
       "    <tr>\n",
       "      <th>21612</th>\n",
       "      <td>2</td>\n",
       "      <td>apartment</td>\n",
       "    </tr>\n",
       "  </tbody>\n",
       "</table>\n",
       "<p>21613 rows × 2 columns</p>\n",
       "</div>"
      ],
      "text/plain": [
       "       bedrooms dormitory_type\n",
       "0             3          house\n",
       "1             3          house\n",
       "2             2      apartment\n",
       "3             4          house\n",
       "4             3          house\n",
       "...         ...            ...\n",
       "21608         3          house\n",
       "21609         4          house\n",
       "21610         2      apartment\n",
       "21611         3          house\n",
       "21612         2      apartment\n",
       "\n",
       "[21613 rows x 2 columns]"
      ]
     },
     "execution_count": 173,
     "metadata": {},
     "output_type": "execute_result"
    }
   ],
   "source": [
    "df[['bedrooms', 'dormitory_type']]"
   ]
  },
  {
   "cell_type": "code",
   "execution_count": 174,
   "id": "89f411f9",
   "metadata": {
    "ExecuteTime": {
     "end_time": "2021-05-24T01:00:42.466185Z",
     "start_time": "2021-05-24T01:00:42.445242Z"
    }
   },
   "outputs": [
    {
     "data": {
      "text/plain": [
       "house        18654\n",
       "apartment     2760\n",
       "studio         199\n",
       "Name: dormitory_type, dtype: int64"
      ]
     },
     "execution_count": 174,
     "metadata": {},
     "output_type": "execute_result"
    }
   ],
   "source": [
    "df['dormitory_type'].value_counts()"
   ]
  },
  {
   "cell_type": "markdown",
   "id": "bd6e8a25",
   "metadata": {},
   "source": [
    "### 3.\tCrie uma nova coluna chamada: “condition_type”\n",
    "    a.\tSe o valor da coluna “condition” for menor ou igual a 2 => ‘bad’\n",
    "    b.\tSe o valor da coluna “condition” for igual a 3 ou 4 => ‘regular’\n",
    "    c.\tSe o valor da coluna “condition” for igual a 5 => ‘good’"
   ]
  },
  {
   "cell_type": "code",
   "execution_count": 175,
   "id": "1224ae1e",
   "metadata": {
    "ExecuteTime": {
     "end_time": "2021-05-24T01:00:52.012221Z",
     "start_time": "2021-05-24T01:00:52.002248Z"
    }
   },
   "outputs": [
    {
     "data": {
      "text/plain": [
       "3    14031\n",
       "4     5679\n",
       "5     1701\n",
       "2      172\n",
       "1       30\n",
       "Name: condition, dtype: int64"
      ]
     },
     "execution_count": 175,
     "metadata": {},
     "output_type": "execute_result"
    }
   ],
   "source": [
    "df['condition'].value_counts()"
   ]
  },
  {
   "cell_type": "code",
   "execution_count": 210,
   "id": "2d23a9e9",
   "metadata": {
    "ExecuteTime": {
     "end_time": "2021-05-24T01:10:48.030710Z",
     "start_time": "2021-05-24T01:10:48.017748Z"
    }
   },
   "outputs": [],
   "source": [
    "df['condition_type'] = 'bad'"
   ]
  },
  {
   "cell_type": "code",
   "execution_count": 211,
   "id": "f44050aa",
   "metadata": {
    "ExecuteTime": {
     "end_time": "2021-05-24T01:10:50.260654Z",
     "start_time": "2021-05-24T01:10:50.237715Z"
    }
   },
   "outputs": [],
   "source": [
    "df.loc[df.condition == 3, 'condition_type'] = 'regular'\n",
    "df.loc[df.condition == 4, 'condition_type'] = 'regular'\n",
    "df.loc[df.condition == 5, 'condition_type'] = 'good'"
   ]
  },
  {
   "cell_type": "code",
   "execution_count": 212,
   "id": "514e41d4",
   "metadata": {
    "ExecuteTime": {
     "end_time": "2021-05-24T01:10:51.585426Z",
     "start_time": "2021-05-24T01:10:51.569804Z"
    }
   },
   "outputs": [
    {
     "data": {
      "text/plain": [
       "regular    19710\n",
       "good        1701\n",
       "bad          202\n",
       "Name: condition_type, dtype: int64"
      ]
     },
     "execution_count": 212,
     "metadata": {},
     "output_type": "execute_result"
    }
   ],
   "source": [
    "df['condition_type'].value_counts()"
   ]
  },
  {
   "cell_type": "markdown",
   "id": "74e209a5",
   "metadata": {},
   "source": [
    "### 4.\tModifique o TIPO da coluna “condition” para STRING"
   ]
  },
  {
   "cell_type": "code",
   "execution_count": 214,
   "id": "36b1e4d7",
   "metadata": {
    "ExecuteTime": {
     "end_time": "2021-05-24T01:11:34.530592Z",
     "start_time": "2021-05-24T01:11:34.514635Z"
    }
   },
   "outputs": [],
   "source": [
    "copia = df.copy()"
   ]
  },
  {
   "cell_type": "code",
   "execution_count": null,
   "id": "ecebe289",
   "metadata": {},
   "outputs": [],
   "source": []
  }
 ],
 "metadata": {
  "kernelspec": {
   "display_name": "Python 3",
   "language": "python",
   "name": "python3"
  },
  "language_info": {
   "codemirror_mode": {
    "name": "ipython",
    "version": 3
   },
   "file_extension": ".py",
   "mimetype": "text/x-python",
   "name": "python",
   "nbconvert_exporter": "python",
   "pygments_lexer": "ipython3",
   "version": "3.8.10"
  }
 },
 "nbformat": 4,
 "nbformat_minor": 5
}
